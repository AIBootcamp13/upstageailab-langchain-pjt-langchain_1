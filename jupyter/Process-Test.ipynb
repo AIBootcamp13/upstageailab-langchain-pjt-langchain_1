{
 "cells": [
  {
   "cell_type": "markdown",
   "metadata": {},
   "source": [
    "### Library"
   ]
  },
  {
   "cell_type": "code",
   "execution_count": 1,
   "metadata": {},
   "outputs": [],
   "source": [
    "import sys\n",
    "import os\n",
    "from pathlib import Path\n",
    "\n",
    "# 프로젝트 루트 경로 추가\n",
    "project_root = Path().absolute().parent\n",
    "os.chdir(project_root)\n",
    "sys.path.insert(0, str(project_root))\n",
    "\n",
    "from omegaconf import OmegaConf\n",
    "from src.main import LegalQAEngine"
   ]
  },
  {
   "cell_type": "markdown",
   "metadata": {},
   "source": [
    "### Configuration Setup"
   ]
  },
  {
   "cell_type": "code",
   "execution_count": 2,
   "metadata": {},
   "outputs": [
    {
     "name": "stdout",
     "output_type": "stream",
     "text": [
      "Current working directory: /Users/mungughyeon/Documents/Upstage/Contest/4. Langchain/upstageailab-langchain-pjt-langchain_1\n",
      "Config directory: /Users/mungughyeon/Documents/Upstage/Contest/4. Langchain/upstageailab-langchain-pjt-langchain_1/conf\n",
      "Hydra 설정 로드 완료\n",
      "llm:\n",
      "  provider: google\n",
      "  model_name: gemini-1.5-flash\n",
      "  temperature: 0.7\n",
      "embedding:\n",
      "  provider: google\n",
      "  model_name: models/embedding-001\n",
      "data:\n",
      "  path: data/cases_2021_2023.csv\n",
      "  chunk_size: 2000\n",
      "  chunk_overlap: 200\n",
      "langsmith:\n",
      "  enabled: true\n",
      "  project_name: legal-qa-chatbot\n",
      "  endpoint: https://api.smith.langchain.com\n",
      "vector_store:\n",
      "  type: faiss\n",
      "  persist_directory: ./faiss_db\n",
      "retriever:\n",
      "  type: ensemble\n",
      "  weights:\n",
      "  - 0.5\n",
      "  - 0.5\n",
      "chain:\n",
      "  type: retrieval_qa\n",
      "  retriever_k: 4\n",
      "preprocessing:\n",
      "  enabled: true\n",
      "  filter_case_types: false\n",
      "  target_case_types: []\n",
      "chat_history:\n",
      "  max_history: 5\n",
      "  save_path: logs/chat_history.json\n",
      "logging:\n",
      "  level: INFO\n",
      "  directory: logs\n",
      "interactive: false\n",
      "\n"
     ]
    }
   ],
   "source": [
    "# Hydra를 사용한 설정 파일 로드\n",
    "import hydra\n",
    "from hydra import compose, initialize_config_dir\n",
    "from omegaconf import OmegaConf\n",
    "\n",
    "# 현재 작업 디렉토리 확인\n",
    "print(f\"Current working directory: {os.getcwd()}\")\n",
    "\n",
    "# Hydra 초기화 및 설정 로드\n",
    "config_dir = project_root / \"conf\"\n",
    "print(f\"Config directory: {config_dir}\")\n",
    "\n",
    "# 기존 Hydra 인스턴스가 있다면 정리\n",
    "if hydra.core.global_hydra.GlobalHydra.instance().is_initialized():\n",
    "    hydra.core.global_hydra.GlobalHydra.instance().clear()\n",
    "\n",
    "# Hydra로 설정 구성\n",
    "with initialize_config_dir(config_dir=str(config_dir), version_base=None):\n",
    "    cfg = compose(config_name=\"config\")\n",
    "\n",
    "print(\"Hydra 설정 로드 완료\")\n",
    "print(OmegaConf.to_yaml(cfg))"
   ]
  },
  {
   "cell_type": "markdown",
   "metadata": {},
   "source": [
    "### QA Engine Initialization"
   ]
  },
  {
   "cell_type": "code",
   "execution_count": 3,
   "metadata": {},
   "outputs": [
    {
     "name": "stdout",
     "output_type": "stream",
     "text": [
      "2025-08-25 18:20:31,850 - LegalQA_Main - INFO - __init__:57 - Logger 'LegalQA_Main' initialized with level INFO\n",
      "2025-08-25 18:20:31,851 - LegalQA_LLM - INFO - __init__:57 - Logger 'LegalQA_LLM' initialized with level INFO\n",
      "2025-08-25 18:20:31,851 - LegalQA_VectorStore - INFO - __init__:57 - Logger 'LegalQA_VectorStore' initialized with level INFO\n",
      "2025-08-25 18:20:31,852 - LegalQA_ChatHistory - INFO - __init__:57 - Logger 'LegalQA_ChatHistory' initialized with level INFO\n",
      "2025-08-25 18:20:31,853 - LegalQA_Retriever - INFO - __init__:57 - Logger 'LegalQA_Retriever' initialized with level INFO\n",
      "2025-08-25 18:20:31,853 - LegalQA_Main - INFO - _setup_environment:57 - LangSmith 추적 활성화: legal-qa-chatbot\n",
      "2025-08-25 18:20:31,854 - LegalQA_Main - INFO - log_system_event:82 - System Event - llm_initialization_start: None\n",
      "2025-08-25 18:20:31,869 - LegalQA_Main - INFO - log_system_event:82 - System Event - document_loading_start: None\n",
      "전처리 전 문서 수: 51\n",
      "기본 전처리 후 문서 수: 51\n",
      "전처리 완료\n",
      "2025-08-25 18:20:31,916 - LegalQA_Main - INFO - _initialize_components:71 - 문서 로드 완료: 51개\n",
      "2025-08-25 18:20:31,949 - LegalQA_Main - INFO - _initialize_components:74 - 문서 분할 완료: 194개 청크\n",
      "2025-08-25 18:20:31,949 - LegalQA_Main - INFO - log_system_event:82 - System Event - vectorstore_initialization_start: None\n",
      "2025-08-25 18:20:46,306 - LegalQA_Main - INFO - log_system_event:82 - System Event - qa_engine_initialization_complete: {'llm_provider': 'google', 'vectorstore_type': 'faiss', 'retriever_type': 'ensemble', 'max_chat_history': 5}\n",
      "QA 엔진 초기화 완료\n"
     ]
    }
   ],
   "source": [
    "# QA 엔진 초기화\n",
    "qa_engine = LegalQAEngine(cfg)\n",
    "print(\"QA 엔진 초기화 완료\")"
   ]
  },
  {
   "cell_type": "markdown",
   "metadata": {},
   "source": [
    "### System Status Check"
   ]
  },
  {
   "cell_type": "code",
   "execution_count": 4,
   "metadata": {},
   "outputs": [
    {
     "name": "stderr",
     "output_type": "stream",
     "text": [
      "WARNING: All log messages before absl::InitializeLog() is called are written to STDERR\n",
      "I0000 00:00:1756113653.636224  761875 fork_posix.cc:71] Other threads are currently calling into gRPC, skipping fork() handlers\n"
     ]
    },
    {
     "name": "stdout",
     "output_type": "stream",
     "text": [
      "initialized: True\n",
      "timestamp: 2025-08-25 18:20:53\n",
      "llm: {'status': 'success', 'provider': 'google', 'model': 'gemini-1.5-flash', 'response_valid': True, 'test_response': \"content='Hello there! How can I help you today?' additional_kwargs={} response_metadata={'prompt_fee\"}\n",
      "vectorstore: {'type': 'faiss', 'status': 'ready', 'total_vectors': 194}\n",
      "chat_history: {'session_id': '20250825_182046', 'total_messages': 0, 'user_messages': 0, 'assistant_messages': 0, 'qa_pairs': 0, 'max_history': 5, 'memory_usage': '0/10'}\n",
      "logging: {'total_logs': 4, 'log_types': {'system_event': 4}, 'session_duration': 'active'}\n"
     ]
    }
   ],
   "source": [
    "# 시스템 상태 확인\n",
    "status = qa_engine.get_system_status()\n",
    "\n",
    "for key, value in status.items():\n",
    "    print(f\"{key}: {value}\")"
   ]
  },
  {
   "cell_type": "markdown",
   "metadata": {},
   "source": [
    "### Basic QA Test"
   ]
  },
  {
   "cell_type": "code",
   "execution_count": 5,
   "metadata": {},
   "outputs": [
    {
     "name": "stdout",
     "output_type": "stream",
     "text": [
      "2025-08-25 18:22:57,487 - LegalQA_Main - INFO - log_qa_interaction:70 - QA Interaction - Q: 사업주가 근로기준법을 위반했을 때 어떤 처벌을 받게 돼?... | A: ## 관련 법령 및 조항\n",
      "- **근로기준법**: 근로기준법은 근로자의 근로조건, 임금, 휴...\n",
      "질문: 사업주가 근로기준법을 위반했을 때 어떤 처벌을 받게 돼?\n",
      "답변: ## 관련 법령 및 조항\n",
      "- **근로기준법**: 근로기준법은 근로자의 근로조건, 임금, 휴일, 해고 등에 관한 기본적인 사항을 규정하고 있습니다.  사업주가 이 법을 위반하면 다양한 처벌을 받게 됩니다.  구체적인 위반 행위와 처벌 내용은 위반 내용에 따라 다릅니다.  예를 들어, 임금 체불은 형사처벌과 민사상 손해배상 책임을 동시에 질 수 있습니다.  또한, 부당해고는 부당해고구제 절차를 통해 원직복직이나 손해배상을 명령받을 수 있습니다.\n",
      "\n",
      "- **근로기준법 제109조**: 사업주가 근로기준법을 위반한 경우, 벌금 또는 과태료 처분을 받을 수 있습니다.  구체적인 금액은 위반 행위의 종류와 정도에 따라 다릅니다.\n",
      "\n",
      "\n",
      "## 유사 판례 분석\n",
      "제공된 판례 데이터에는 근로기준법 위반에 대한 사업주 처벌에 직접적으로 언급하는 판례가 없습니다.  제공된 판례들은 변호사법 위반, 퇴직금, 부당해고, 임금 등 개별적인 근로 문제에 대한 판결입니다.  따라서 근로기준법 위반에 따른 사업주 처벌에 대한 구체적인 판례 분석은 불가능합니다.\n",
      "\n",
      "\n",
      "## 법적 조언\n",
      "사업주가 근로기준법을 위반했을 때 받는 처벌은 위반 내용에 따라 다릅니다.  임금체불,  부당해고,  근로시간 위반 등 각 위반 행위에 따른 처벌 규정을 근로기준법 및 관련 법령에서 확인해야 합니다.  \n",
      "\n",
      "사업주가 근로기준법을 위반한 경우, 근로자는 다음과 같은 방법으로 권리 구제를 받을 수 있습니다.\n",
      "\n",
      "1. **민사소송**: 임금체불,  손해배상 청구 등 민사상 손해배상을 청구할 수 있습니다.\n",
      "2. **행정절차**: 고용노동부에 진정을 제기하여 사업주에 대한 시정명령이나 과태료 처분을 요청할 수 있습니다.\n",
      "3. **형사고소**:  중대한 위반 행위(예: 임금 체불)에 대해서는 형사고소를 할 수 있습니다.\n",
      "4. **부당해고 구제 신청**: 부당해고의 경우, 노동위원회에 부당해고구제 신청을 할 수 있습니다.\n",
      "\n",
      "근로기준법 위반에 대한 구체적인 처벌 및 권리 구제 방법은 위반 행위의 내용과 증거에 따라 달라지므로, 법률 전문가의 도움을 받는 것이 좋습니다.  제공된 정보만으로는 더 자세한 법률 조언을 드릴 수 없습니다.  관련 정보가 부족합니다.\n",
      "응답 시간: 6.01초\n",
      "성공 여부: True\n"
     ]
    }
   ],
   "source": [
    "# 기본 질문 테스트\n",
    "test_question = \"사업주가 근로기준법을 위반했을 때 어떤 처벌을 받게 돼?\"\n",
    "result = qa_engine.ask(test_question)\n",
    "\n",
    "print(f\"질문: {result['question']}\")\n",
    "print(f\"답변: {result['answer']}\")\n",
    "print(f\"응답 시간: {result['response_time']:.2f}초\")\n",
    "print(f\"성공 여부: {result['success']}\")"
   ]
  },
  {
   "cell_type": "markdown",
   "metadata": {},
   "source": [
    "### Chat History Test"
   ]
  },
  {
   "cell_type": "code",
   "execution_count": 6,
   "metadata": {},
   "outputs": [
    {
     "name": "stdout",
     "output_type": "stream",
     "text": [
      "\n",
      "--- 새 질문 ---\n",
      "2025-08-25 18:23:18,630 - LegalQA_Main - INFO - log_qa_interaction:70 - QA Interaction - Q: 임대차계약에서 보증금은 언제 돌려받을 수 있나요?... | A: ## 관련 법령 및 조항\n",
      "\n",
      "- **주택임대차보호법 제3조(임대차의 목적)**: 임대차의 목...\n",
      "Q: 임대차계약에서 보증금은 언제 돌려받을 수 있나요?\n",
      "A: ## 관련 법령 및 조항\n",
      "\n",
      "- **주택임대차보호법 제3조(임대차의 목적)**: 임대차의 목적은 주택입니다.  본 조항은 임대차 계약의 기본적인 대상을 규정합니다.\n",
      "\n",
      "- **주택임대차보호법 제11조(차임 및 보증금의 지급)**: 임대인은 임차인에게 주택을 인도하고 임차인은 임대인에게 차임 및 보증금을 지급해야 합니다.  보증금 반환 시점은 계약 종료 시점입니...\n",
      "응답시간: 6.11초\n",
      "\n",
      "--- 새 질문 ---\n",
      "2025-08-25 18:23:25,232 - LegalQA_Main - INFO - log_qa_interaction:70 - QA Interaction - Q: 그럼 임대인이 보증금을 안 돌려주면 어떻게 해야 하나요?... | A: ## 관련 법령 및 조항\n",
      "\n",
      "- **주택임대차보호법 제3조(임대차의 목적)**: 임대차의 목...\n",
      "Q: 그럼 임대인이 보증금을 안 돌려주면 어떻게 해야 하나요?\n",
      "A: ## 관련 법령 및 조항\n",
      "\n",
      "- **주택임대차보호법 제3조(임대차의 목적)**: 임대차의 목적은 주택입니다.  본 조항은 임대차 계약의 기본적인 대상을 규정합니다.\n",
      "\n",
      "- **주택임대차보호법 제11조(차임 및 보증금의 지급)**: 임대인은 임차인에게 주택을 인도하고 임차인은 임대인에게 차임 및 보증금을 지급해야 합니다.  보증금 반환 시점은 계약 종료 시점입니...\n",
      "응답시간: 6.60초\n",
      "\n",
      "--- 새 질문 ---\n",
      "2025-08-25 18:23:33,912 - LegalQA_Main - INFO - log_qa_interaction:70 - QA Interaction - Q: 앞서 말한 절차에서 필요한 서류는 무엇인가요?... | A: ## 관련 법령 및 조항\n",
      "\n",
      "- **주택임대차보호법 제3조(임대차의 목적)**: 임대차 계약...\n",
      "Q: 앞서 말한 절차에서 필요한 서류는 무엇인가요?\n",
      "A: ## 관련 법령 및 조항\n",
      "\n",
      "- **주택임대차보호법 제3조(임대차의 목적)**: 임대차 계약의 기본적인 대상을 규정합니다.\n",
      "- **주택임대차보호법 제11조(차임 및 보증금의 지급)**: 보증금 반환 시점을 계약 종료 시점으로 규정합니다.\n",
      "- **민법 제390조(채무불이행)**: 채무 불이행에 대한 채권자의 권리를 규정합니다.\n",
      "- **민사소송법**: 소송 절차...\n",
      "응답시간: 8.67초\n"
     ]
    }
   ],
   "source": [
    "# 연속 질문으로 히스토리 테스트\n",
    "questions = [\n",
    "    \"임대차계약에서 보증금은 언제 돌려받을 수 있나요?\",\n",
    "    \"그럼 임대인이 보증금을 안 돌려주면 어떻게 해야 하나요?\",\n",
    "    \"앞서 말한 절차에서 필요한 서류는 무엇인가요?\"\n",
    "]\n",
    "\n",
    "for question in questions:\n",
    "    print(f\"\\n--- 새 질문 ---\")\n",
    "    result = qa_engine.ask(question, use_chat_history=True)\n",
    "    print(f\"Q: {question}\")\n",
    "    print(f\"A: {result['answer'][:200]}...\")\n",
    "    print(f\"응답시간: {result['response_time']:.2f}초\")"
   ]
  },
  {
   "cell_type": "markdown",
   "metadata": {},
   "source": [
    "### Chat History Status"
   ]
  },
  {
   "cell_type": "code",
   "execution_count": 7,
   "metadata": {},
   "outputs": [
    {
     "name": "stdout",
     "output_type": "stream",
     "text": [
      "채팅 히스토리 통계:\n",
      "session_id: 20250825_182046\n",
      "total_messages: 8\n",
      "user_messages: 4\n",
      "assistant_messages: 4\n",
      "qa_pairs: 4\n",
      "max_history: 5\n",
      "memory_usage: 8/10\n"
     ]
    }
   ],
   "source": [
    "# 채팅 히스토리 상태 확인\n",
    "history_stats = qa_engine.chat_history.get_stats()\n",
    "\n",
    "print(\"채팅 히스토리 통계:\")\n",
    "for key, value in history_stats.items():\n",
    "    print(f\"{key}: {value}\")"
   ]
  },
  {
   "cell_type": "markdown",
   "metadata": {},
   "source": [
    "### Recent QA Pairs"
   ]
  },
  {
   "cell_type": "code",
   "execution_count": 8,
   "metadata": {},
   "outputs": [
    {
     "name": "stdout",
     "output_type": "stream",
     "text": [
      "최근 질답 쌍:\n",
      "\n",
      "--- 질답 쌍 ---\n",
      "Q: 그럼 임대인이 보증금을 안 돌려주면 어떻게 해야 하나요?\n",
      "A: ## 관련 법령 및 조항\n",
      "\n",
      "- **주택임대차보호법 제3조(임대차의 목적)**: 임대차의 목적은 주택입니다.  본 조항은 임대차 계약의 기본적인 대상을 규정합니다.\n",
      "\n",
      "- **주택임대...\n",
      "시간: 2025-08-25T18:23:25.231355\n",
      "\n",
      "--- 질답 쌍 ---\n",
      "Q: 앞서 말한 절차에서 필요한 서류는 무엇인가요?\n",
      "A: ## 관련 법령 및 조항\n",
      "\n",
      "- **주택임대차보호법 제3조(임대차의 목적)**: 임대차 계약의 기본적인 대상을 규정합니다.\n",
      "- **주택임대차보호법 제11조(차임 및 보증금의 지급)*...\n",
      "시간: 2025-08-25T18:23:33.906159\n"
     ]
    }
   ],
   "source": [
    "# 최근 질답 쌍 확인\n",
    "recent_pairs = qa_engine.chat_history.get_recent_qa_pairs(num_pairs=2)\n",
    "\n",
    "print(\"최근 질답 쌍:\")\n",
    "for pair in recent_pairs:\n",
    "    print(f\"\\n--- 질답 쌍 ---\")\n",
    "    print(f\"Q: {pair['question']}\")\n",
    "    print(f\"A: {pair['answer'][:100]}...\")\n",
    "    print(f\"시간: {pair['timestamp']}\")"
   ]
  },
  {
   "cell_type": "markdown",
   "metadata": {},
   "source": [
    "### Vector Store Information"
   ]
  },
  {
   "cell_type": "code",
   "execution_count": 9,
   "metadata": {},
   "outputs": [
    {
     "name": "stdout",
     "output_type": "stream",
     "text": [
      "벡터 스토어 정보:\n",
      "type: faiss\n",
      "status: ready\n",
      "total_vectors: 194\n"
     ]
    }
   ],
   "source": [
    "# 벡터 스토어 정보 확인\n",
    "vectorstore_stats = qa_engine.vectorstore_manager.get_stats()\n",
    "\n",
    "print(\"벡터 스토어 정보:\")\n",
    "for key, value in vectorstore_stats.items():\n",
    "    print(f\"{key}: {value}\")"
   ]
  },
  {
   "cell_type": "markdown",
   "metadata": {},
   "source": [
    "### Logging Statistics"
   ]
  },
  {
   "cell_type": "code",
   "execution_count": 10,
   "metadata": {},
   "outputs": [
    {
     "name": "stdout",
     "output_type": "stream",
     "text": [
      "로깅 통계:\n",
      "total_logs: 8\n",
      "log_types: {'system_event': 4, 'qa_interaction': 4}\n",
      "session_duration: active\n"
     ]
    }
   ],
   "source": [
    "# 로깅 통계 확인\n",
    "log_stats = qa_engine.logger.get_session_stats()\n",
    "\n",
    "print(\"로깅 통계:\")\n",
    "for key, value in log_stats.items():\n",
    "    print(f\"{key}: {value}\")"
   ]
  },
  {
   "cell_type": "markdown",
   "metadata": {},
   "source": [
    "### Performance Test"
   ]
  },
  {
   "cell_type": "code",
   "execution_count": 11,
   "metadata": {},
   "outputs": [
    {
     "name": "stdout",
     "output_type": "stream",
     "text": [
      "2025-08-25 18:24:19,400 - LegalQA_Main - INFO - log_qa_interaction:70 - QA Interaction - Q: 교통사고 손해배상 기준은?... | A: ## 관련 법령 및 조항\n",
      "\n",
      "- **민법 제750조 (불법행위로 인한 손해배상):**  불법...\n",
      "2025-08-25 18:24:27,271 - LegalQA_Main - INFO - log_qa_interaction:70 - QA Interaction - Q: 근로계약 해지 절차는?... | A: ## 관련 법령 및 조항\n",
      "- **근로기준법 제23조(해고의 제한):** 사용자는 근로자를 ...\n",
      "2025-08-25 18:24:35,532 - LegalQA_Main - INFO - log_qa_interaction:70 - QA Interaction - Q: 부동산 매매계약 주의사항은?... | A: ## 관련 법령 및 조항\n",
      "- **민법 제535조(매매의 의의):** 매매는 당사자 일방이 ...\n",
      "총 질문 수: 3\n",
      "총 소요 시간: 22.05초\n",
      "평균 응답 시간: 7.35초\n",
      "성공률: 100.00%\n",
      "\n",
      "개별 결과:\n",
      "  교통사고 손해배상 기준은?: 5.93초 (성공)\n",
      "  근로계약 해지 절차는?: 7.87초 (성공)\n",
      "  부동산 매매계약 주의사항은?: 8.26초 (성공)\n"
     ]
    }
   ],
   "source": [
    "# 성능 테스트\n",
    "import time\n",
    "\n",
    "performance_questions = [\n",
    "    \"교통사고 손해배상 기준은?\",\n",
    "    \"근로계약 해지 절차는?\",\n",
    "    \"부동산 매매계약 주의사항은?\"\n",
    "]\n",
    "\n",
    "total_time = 0\n",
    "results = []\n",
    "\n",
    "for question in performance_questions:\n",
    "    result = qa_engine.ask(question, use_chat_history=False)\n",
    "    total_time += result['response_time']\n",
    "    results.append({\n",
    "        'question': question,\n",
    "        'time': result['response_time'],\n",
    "        'success': result['success']\n",
    "    })\n",
    "\n",
    "print(f\"총 질문 수: {len(performance_questions)}\")\n",
    "print(f\"총 소요 시간: {total_time:.2f}초\")\n",
    "print(f\"평균 응답 시간: {total_time/len(performance_questions):.2f}초\")\n",
    "print(f\"성공률: {sum(1 for r in results if r['success'])/len(results):.2%}\")\n",
    "\n",
    "print(\"\\n개별 결과:\")\n",
    "for result in results:\n",
    "    print(f\"  {result['question']}: {result['time']:.2f}초 ({'성공' if result['success'] else '실패'})\")"
   ]
  },
  {
   "cell_type": "markdown",
   "metadata": {},
   "source": [
    "### Final System Summary"
   ]
  },
  {
   "cell_type": "code",
   "execution_count": 12,
   "metadata": {},
   "outputs": [
    {
     "name": "stdout",
     "output_type": "stream",
     "text": [
      "=== 법률 QA 시스템 최종 상태 ===\n",
      "초기화 상태: True\n",
      "타임스탬프: 2025-08-25 18:24:50\n",
      "LLM 상태: success\n",
      "모델: google/gemini-1.5-flash\n",
      "벡터스토어: ready\n",
      "채팅 히스토리: 4개 질답쌍 저장됨\n",
      "\n",
      "테스트 완료!\n"
     ]
    }
   ],
   "source": [
    "# 최종 시스템 요약\n",
    "final_status = qa_engine.get_system_status()\n",
    "\n",
    "print(\"=== 법률 QA 시스템 최종 상태 ===\")\n",
    "print(f\"초기화 상태: {final_status['initialized']}\")\n",
    "print(f\"타임스탬프: {final_status['timestamp']}\")\n",
    "\n",
    "if 'llm' in final_status:\n",
    "    print(f\"LLM 상태: {final_status['llm']['status']}\")\n",
    "    print(f\"모델: {final_status['llm']['provider']}/{final_status['llm']['model']}\")\n",
    "\n",
    "if 'vectorstore' in final_status:\n",
    "    print(f\"벡터스토어: {final_status['vectorstore']['status']}\")\n",
    "\n",
    "if 'chat_history' in final_status:\n",
    "    history = final_status['chat_history']\n",
    "    print(f\"채팅 히스토리: {history['qa_pairs']}개 질답쌍 저장됨\")\n",
    "\n",
    "print(\"\\n테스트 완료!\")"
   ]
  }
 ],
 "metadata": {
  "kernelspec": {
   "display_name": "upstageailab-langchain-pjt-langchain-1",
   "language": "python",
   "name": "python3"
  },
  "language_info": {
   "codemirror_mode": {
    "name": "ipython",
    "version": 3
   },
   "file_extension": ".py",
   "mimetype": "text/x-python",
   "name": "python",
   "nbconvert_exporter": "python",
   "pygments_lexer": "ipython3",
   "version": "3.11.13"
  }
 },
 "nbformat": 4,
 "nbformat_minor": 4
}
