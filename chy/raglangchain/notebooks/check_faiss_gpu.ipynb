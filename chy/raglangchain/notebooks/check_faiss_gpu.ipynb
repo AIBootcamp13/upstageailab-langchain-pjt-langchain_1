{
 "cells": [
  {
   "cell_type": "code",
   "execution_count": 2,
   "id": "e64e7839-db71-44be-b3b5-683ddb3fb033",
   "metadata": {},
   "outputs": [
    {
     "name": "stdout",
     "output_type": "stream",
     "text": [
      "FAISS version: 1.12.0\n"
     ]
    }
   ],
   "source": [
    "import faiss\n",
    "print(f\"FAISS version: {faiss.__version__}\")"
   ]
  },
  {
   "cell_type": "code",
   "execution_count": 3,
   "id": "e6eca9a7-1c5f-4e02-b116-552470ad7636",
   "metadata": {},
   "outputs": [
    {
     "name": "stdout",
     "output_type": "stream",
     "text": [
      "FAISS GPU index created successfully.\n"
     ]
    }
   ],
   "source": [
    "# You can also attempt to create a GPU index to confirm functionality\n",
    "try:\n",
    "    res = faiss.StandardGpuResources()\n",
    "    index = faiss.GpuIndexFlatL2(res, 128) # Example for a 128-dimension index\n",
    "    print(\"FAISS GPU index created successfully.\")\n",
    "except Exception as e:\n",
    "    print(f\"Error creating FAISS GPU index: {e}\")"
   ]
  }
 ],
 "metadata": {
  "kernelspec": {
   "display_name": "py12",
   "language": "python",
   "name": "py12"
  },
  "language_info": {
   "codemirror_mode": {
    "name": "ipython",
    "version": 3
   },
   "file_extension": ".py",
   "mimetype": "text/x-python",
   "name": "python",
   "nbconvert_exporter": "python",
   "pygments_lexer": "ipython3",
   "version": "3.12.10"
  }
 },
 "nbformat": 4,
 "nbformat_minor": 5
}
